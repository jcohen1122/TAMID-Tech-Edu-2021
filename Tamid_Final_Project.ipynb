{
  "nbformat": 4,
  "nbformat_minor": 0,
  "metadata": {
    "colab": {
      "name": "Tamid Final Project.ipynb",
      "provenance": [],
      "authorship_tag": "ABX9TyP/FaHJQnaEq0kcWy9GqLgA",
      "include_colab_link": true
    },
    "kernelspec": {
      "name": "python3",
      "display_name": "Python 3"
    },
    "language_info": {
      "name": "python"
    }
  },
  "cells": [
    {
      "cell_type": "markdown",
      "metadata": {
        "id": "view-in-github",
        "colab_type": "text"
      },
      "source": [
        "<a href=\"https://colab.research.google.com/github/jcohen1122/TAMID-Tech-Edu-2021/blob/main/Tamid_Final_Project.ipynb\" target=\"_parent\"><img src=\"https://colab.research.google.com/assets/colab-badge.svg\" alt=\"Open In Colab\"/></a>"
      ]
    },
    {
      "cell_type": "code",
      "metadata": {
        "id": "VBeMbbZxlpwy"
      },
      "source": [
        "import pandas as pd\n",
        "import json\n",
        "import csv\n",
        "import numpy as np\n",
        "import statsmodels.api as sm\n",
        "import matplotlib.pyplot as plt\n",
        "import seaborn as sns"
      ],
      "execution_count": 97,
      "outputs": []
    },
    {
      "cell_type": "code",
      "metadata": {
        "id": "pWgBrHrvmuUp",
        "colab": {
          "base_uri": "https://localhost:8080/"
        },
        "outputId": "d68238fb-4977-4f1b-a986-62188ef50bb2"
      },
      "source": [
        "with open(\"astros_data.json\") as json_file:\n",
        "    data = json.load(json_file)\n",
        "print(data)"
      ],
      "execution_count": 101,
      "outputs": [
        {
          "output_type": "stream",
          "name": "stdout",
          "text": [
            "{'Houston Astros': [{'Batting Avg': 0.267, 'Hits': 1496, 'Homeruns': 221, 'Losses': 67, 'RBIs': 834, 'Runs': 863, 'Strikeouts': 1222, 'Wins': 95, 'Year': 2021}, {'Batting Avg': 0.24, 'Hits': 478, 'Homeruns': 69, 'Losses': 31, 'RBIs': 368, 'Runs': 279, 'Strikeouts': 440, 'Wins': 29, 'Year': 2020}, {'Batting Avg': 0.274, 'Hits': 1538, 'Homeruns': 288, 'Losses': 55, 'RBIs': 891, 'Runs': 920, 'Strikeouts': 1166, 'Wins': 107, 'Year': 2019}, {'Batting Avg': 0.255, 'Hits': 1390, 'Homeruns': 205, 'Losses': 59, 'RBIs': 763, 'Runs': 797, 'Strikeouts': 1197, 'Wins': 83, 'Year': 2018}, {'Batting Avg': 0.282, 'Hits': 1581, 'Homeruns': 238, 'Losses': 61, 'RBIs': 854, 'Runs': 896, 'Strikeouts': 1087, 'Wins': 101, 'Year': 2017}, {'Batting Avg': 0.247, 'Hits': 1367, 'Homeruns': 198, 'Losses': 78, 'RBIs': 689, 'Runs': 724, 'Strikeouts': 1452, 'Wins': 84, 'Year': 2016}, {'Batting Avg': 0.25, 'Hits': 1363, 'Homeruns': 230, 'Losses': 76, 'RBIs': 691, 'Runs': 729, 'Strikeouts': 1392, 'Wins': 86, 'Year': 2015}, {'Batting Avg': 0.242, 'Hits': 1317, 'Homeruns': 163, 'Losses': 92, 'RBIs': 596, 'Runs': 629, 'Strikeouts': 1442, 'Wins': 70, 'Year': 2014}, {'Batting Avg': 0.24, 'Hits': 1307, 'Homeruns': 148, 'Losses': 111, 'RBIs': 566, 'Runs': 610, 'Strikeouts': 1535, 'Wins': 51, 'Year': 2013}, {'Batting Avg': 0.236, 'Hits': 1276, 'Homeruns': 146, 'Losses': 107, 'RBIs': 545, 'Runs': 583, 'Strikeouts': 1365, 'Wins': 55, 'Year': 2012}, {'Batting Avg': 0.258, 'Hits': 1442, 'Homeruns': 95, 'Losses': 106, 'RBIs': 579, 'Runs': 615, 'Strikeouts': 1164, 'Wins': 56, 'Year': 2011}, {'Batting Avg': 0.247, 'Hits': 1348, 'Homeruns': 108, 'Losses': 86, 'RBIs': 577, 'Runs': 611, 'Strikeouts': 1025, 'Wins': 76, 'Year': 2010}, {'Batting Avg': 0.26, 'Hits': 1415, 'Homeruns': 142, 'Losses': 88, 'RBIs': 616, 'Runs': 643, 'Strikeouts': 990, 'Wins': 74, 'Year': 2009}, {'Batting Avg': 0.263, 'Hits': 1432, 'Homeruns': 167, 'Losses': 75, 'RBIs': 864, 'Runs': 712, 'Strikeouts': 1051, 'Wins': 86, 'Year': 2008}, {'Batting Avg': 0.26, 'Hits': 1457, 'Homeruns': 167, 'Losses': 89, 'RBIs': 700, 'Runs': 723, 'Strikeouts': 1043, 'Wins': 73, 'Year': 2007}, {'Batting Avg': 0.255, 'Hits': 1407, 'Homeruns': 174, 'Losses': 80, 'RBIs': 708, 'Runs': 735, 'Strikeouts': 1076, 'Wins': 82, 'Year': 2006}, {'Batting Avg': 0.256, 'Hits': 1400, 'Homeruns': 161, 'Losses': 73, 'RBIs': 654, 'Runs': 693, 'Strikeouts': 1037, 'Wins': 89, 'Year': 2005}, {'Batting Avg': 0.267, 'Hits': 1458, 'Homeruns': 187, 'Losses': 70, 'RBIs': 756, 'Runs': 803, 'Strikeouts': 999, 'Wins': 92, 'Year': 2004}, {'Batting Avg': 0.263, 'Hits': 1466, 'Homeruns': 191, 'Losses': 75, 'RBIs': 763, 'Runs': 805, 'Strikeouts ': 1021, 'Wins': 87, 'Year': 2003}, {'Batting Avg': 0.262, 'Hits': 1441, 'Homeruns': 167, 'Losses': 78, 'RBIs': 719, 'Runs': 749, 'Strikeouts': 1120, 'Wins': 84, 'Year': 2002}, {'Batting Avg': 0.271, 'Hits': 1500, 'Homeruns': 208, 'Losses': 69, 'RBIs': 805, 'Runs': 847, 'Strikeouts': 1119, 'Wins': 93, 'Year': 2001}, {'Batting Avg': 0.278, 'Hits': 1547, 'Homeruns': 249, 'Losses': 90, 'RBIs': 900, 'Runs': 938, 'Strikeouts': 1129, 'Wins': 72, 'Year': 2000}, {'Batting Avg': 0.267, 'Hits': 1463, 'Homeruns': 168, 'Losses': 65, 'RBIs': 784, 'Runs': 823, 'Strikeouts': 1138, 'Wins': 97, 'Year': 1999}, {'Batting Avg': 0.28, 'Hits': 1578, 'Homeruns': 166, 'Losses': 60, 'RBIs': 818, 'Runs': 874, 'Strikeouts': 1122, 'Wins': 102, 'Year': 1998}, {'Batting Avg': 0.259, 'Hits': 1427, 'Homeruns': 133, 'Losses': 78, 'RBIs': 720, 'Runs': 777, 'Strikeouts': 1005, 'Wins': 84, 'Year': 1997}, {'Batting Avg': 0.252, 'Hits': 1445, 'Homeruns': 129, 'Losses': 80, 'RBIs': 703, 'Runs': 753, 'Strikeouts': 1057, 'Wins': 82, 'Year': 1996}, {'Batting Avg': 0.275, 'Hits': 1403, 'Homeruns': 109, 'Losses': 68, 'RBIs': 693, 'Runs': 747, 'Strikeouts': 992, 'Wins': 76, 'Year': 1995}, {'Batting Avg': 0.278, 'Hits': 1099, 'Homeruns': 120, 'Losses': 49, 'RBIs': 573, 'Runs': 602, 'Strikeouts': 718, 'Wins': 66, 'Year': 1994}, {'Batting Avg': 0.267, 'Hits': 1459, 'Homeruns': 138, 'Losses': 77, 'RBIs': 656, 'Runs': 716, 'Strikeouts': 911, 'Wins': 85, 'Year': 1993}, {'Batting Avg': 0.246, 'Hits': 1350, 'Homeruns': 96, 'Losses': 81, 'RBIs': 582, 'Runs': 608, 'Strikeouts': 1025, 'Wins': 81, 'Year': 1992}]}\n"
          ]
        }
      ]
    },
    {
      "cell_type": "code",
      "metadata": {
        "id": "WXi-4MWy7jSD"
      },
      "source": [
        "data = data['Houston Astros']\n",
        "\n",
        "data_file = open('data.csv', 'w')\n",
        "csv_writer = csv.writer(data_file)\n",
        "csv_writer.writerow(data[0].keys())\n",
        "\n",
        "for num in data:\n",
        "    csv_writer.writerow(num.values())\n",
        "data_file.close()"
      ],
      "execution_count": 102,
      "outputs": []
    },
    {
      "cell_type": "code",
      "metadata": {
        "id": "iqolMZz2n636"
      },
      "source": [
        "df = pd.read_csv('data.csv')\n",
        "df"
      ],
      "execution_count": null,
      "outputs": []
    },
    {
      "cell_type": "code",
      "metadata": {
        "id": "w2IQ5-t182R_"
      },
      "source": [
        "#Games played column\n",
        "df['Games Played'] = df['Wins'] + df['Losses']\n",
        "df"
      ],
      "execution_count": null,
      "outputs": []
    },
    {
      "cell_type": "code",
      "metadata": {
        "id": "7MIyb1VC9kKH"
      },
      "source": [
        "#Only consider years with full # of games played (162)\n",
        "df2 = df.loc[df['Games Played'] == 162]\n",
        "df2"
      ],
      "execution_count": null,
      "outputs": []
    },
    {
      "cell_type": "code",
      "metadata": {
        "id": "ZLqXtzm19tbT",
        "colab": {
          "base_uri": "https://localhost:8080/",
          "height": 834
        },
        "outputId": "1b3ff75e-c239-4763-930a-e71bd4dd8ea4"
      },
      "source": [
        "#Only want certain columns\n",
        "df3 = df2[['Year', 'Batting Avg', 'Strikeouts', 'Hits', 'Homeruns', 'Wins', 'Runs']]\n",
        "df3"
      ],
      "execution_count": 103,
      "outputs": [
        {
          "output_type": "execute_result",
          "data": {
            "text/html": [
              "<div>\n",
              "<style scoped>\n",
              "    .dataframe tbody tr th:only-of-type {\n",
              "        vertical-align: middle;\n",
              "    }\n",
              "\n",
              "    .dataframe tbody tr th {\n",
              "        vertical-align: top;\n",
              "    }\n",
              "\n",
              "    .dataframe thead th {\n",
              "        text-align: right;\n",
              "    }\n",
              "</style>\n",
              "<table border=\"1\" class=\"dataframe\">\n",
              "  <thead>\n",
              "    <tr style=\"text-align: right;\">\n",
              "      <th></th>\n",
              "      <th>Year</th>\n",
              "      <th>Batting Avg</th>\n",
              "      <th>Strikeouts</th>\n",
              "      <th>Hits</th>\n",
              "      <th>Homeruns</th>\n",
              "      <th>Wins</th>\n",
              "      <th>Runs</th>\n",
              "    </tr>\n",
              "  </thead>\n",
              "  <tbody>\n",
              "    <tr>\n",
              "      <th>0</th>\n",
              "      <td>2021</td>\n",
              "      <td>0.267</td>\n",
              "      <td>1222</td>\n",
              "      <td>1496</td>\n",
              "      <td>221</td>\n",
              "      <td>95</td>\n",
              "      <td>863</td>\n",
              "    </tr>\n",
              "    <tr>\n",
              "      <th>2</th>\n",
              "      <td>2019</td>\n",
              "      <td>0.274</td>\n",
              "      <td>1166</td>\n",
              "      <td>1538</td>\n",
              "      <td>288</td>\n",
              "      <td>107</td>\n",
              "      <td>920</td>\n",
              "    </tr>\n",
              "    <tr>\n",
              "      <th>4</th>\n",
              "      <td>2017</td>\n",
              "      <td>0.282</td>\n",
              "      <td>1087</td>\n",
              "      <td>1581</td>\n",
              "      <td>238</td>\n",
              "      <td>101</td>\n",
              "      <td>896</td>\n",
              "    </tr>\n",
              "    <tr>\n",
              "      <th>5</th>\n",
              "      <td>2016</td>\n",
              "      <td>0.247</td>\n",
              "      <td>1452</td>\n",
              "      <td>1367</td>\n",
              "      <td>198</td>\n",
              "      <td>84</td>\n",
              "      <td>724</td>\n",
              "    </tr>\n",
              "    <tr>\n",
              "      <th>6</th>\n",
              "      <td>2015</td>\n",
              "      <td>0.250</td>\n",
              "      <td>1392</td>\n",
              "      <td>1363</td>\n",
              "      <td>230</td>\n",
              "      <td>86</td>\n",
              "      <td>729</td>\n",
              "    </tr>\n",
              "    <tr>\n",
              "      <th>7</th>\n",
              "      <td>2014</td>\n",
              "      <td>0.242</td>\n",
              "      <td>1442</td>\n",
              "      <td>1317</td>\n",
              "      <td>163</td>\n",
              "      <td>70</td>\n",
              "      <td>629</td>\n",
              "    </tr>\n",
              "    <tr>\n",
              "      <th>8</th>\n",
              "      <td>2013</td>\n",
              "      <td>0.240</td>\n",
              "      <td>1535</td>\n",
              "      <td>1307</td>\n",
              "      <td>148</td>\n",
              "      <td>51</td>\n",
              "      <td>610</td>\n",
              "    </tr>\n",
              "    <tr>\n",
              "      <th>9</th>\n",
              "      <td>2012</td>\n",
              "      <td>0.236</td>\n",
              "      <td>1365</td>\n",
              "      <td>1276</td>\n",
              "      <td>146</td>\n",
              "      <td>55</td>\n",
              "      <td>583</td>\n",
              "    </tr>\n",
              "    <tr>\n",
              "      <th>10</th>\n",
              "      <td>2011</td>\n",
              "      <td>0.258</td>\n",
              "      <td>1164</td>\n",
              "      <td>1442</td>\n",
              "      <td>95</td>\n",
              "      <td>56</td>\n",
              "      <td>615</td>\n",
              "    </tr>\n",
              "    <tr>\n",
              "      <th>11</th>\n",
              "      <td>2010</td>\n",
              "      <td>0.247</td>\n",
              "      <td>1025</td>\n",
              "      <td>1348</td>\n",
              "      <td>108</td>\n",
              "      <td>76</td>\n",
              "      <td>611</td>\n",
              "    </tr>\n",
              "    <tr>\n",
              "      <th>12</th>\n",
              "      <td>2009</td>\n",
              "      <td>0.260</td>\n",
              "      <td>990</td>\n",
              "      <td>1415</td>\n",
              "      <td>142</td>\n",
              "      <td>74</td>\n",
              "      <td>643</td>\n",
              "    </tr>\n",
              "    <tr>\n",
              "      <th>14</th>\n",
              "      <td>2007</td>\n",
              "      <td>0.260</td>\n",
              "      <td>1043</td>\n",
              "      <td>1457</td>\n",
              "      <td>167</td>\n",
              "      <td>73</td>\n",
              "      <td>723</td>\n",
              "    </tr>\n",
              "    <tr>\n",
              "      <th>15</th>\n",
              "      <td>2006</td>\n",
              "      <td>0.255</td>\n",
              "      <td>1076</td>\n",
              "      <td>1407</td>\n",
              "      <td>174</td>\n",
              "      <td>82</td>\n",
              "      <td>735</td>\n",
              "    </tr>\n",
              "    <tr>\n",
              "      <th>16</th>\n",
              "      <td>2005</td>\n",
              "      <td>0.256</td>\n",
              "      <td>1037</td>\n",
              "      <td>1400</td>\n",
              "      <td>161</td>\n",
              "      <td>89</td>\n",
              "      <td>693</td>\n",
              "    </tr>\n",
              "    <tr>\n",
              "      <th>17</th>\n",
              "      <td>2004</td>\n",
              "      <td>0.267</td>\n",
              "      <td>999</td>\n",
              "      <td>1458</td>\n",
              "      <td>187</td>\n",
              "      <td>92</td>\n",
              "      <td>803</td>\n",
              "    </tr>\n",
              "    <tr>\n",
              "      <th>18</th>\n",
              "      <td>2003</td>\n",
              "      <td>0.263</td>\n",
              "      <td>1021</td>\n",
              "      <td>1466</td>\n",
              "      <td>191</td>\n",
              "      <td>87</td>\n",
              "      <td>805</td>\n",
              "    </tr>\n",
              "    <tr>\n",
              "      <th>19</th>\n",
              "      <td>2002</td>\n",
              "      <td>0.262</td>\n",
              "      <td>1120</td>\n",
              "      <td>1441</td>\n",
              "      <td>167</td>\n",
              "      <td>84</td>\n",
              "      <td>749</td>\n",
              "    </tr>\n",
              "    <tr>\n",
              "      <th>20</th>\n",
              "      <td>2001</td>\n",
              "      <td>0.271</td>\n",
              "      <td>1119</td>\n",
              "      <td>1500</td>\n",
              "      <td>208</td>\n",
              "      <td>93</td>\n",
              "      <td>847</td>\n",
              "    </tr>\n",
              "    <tr>\n",
              "      <th>21</th>\n",
              "      <td>2000</td>\n",
              "      <td>0.278</td>\n",
              "      <td>1129</td>\n",
              "      <td>1547</td>\n",
              "      <td>249</td>\n",
              "      <td>72</td>\n",
              "      <td>938</td>\n",
              "    </tr>\n",
              "    <tr>\n",
              "      <th>22</th>\n",
              "      <td>1999</td>\n",
              "      <td>0.267</td>\n",
              "      <td>1138</td>\n",
              "      <td>1463</td>\n",
              "      <td>168</td>\n",
              "      <td>97</td>\n",
              "      <td>823</td>\n",
              "    </tr>\n",
              "    <tr>\n",
              "      <th>23</th>\n",
              "      <td>1998</td>\n",
              "      <td>0.280</td>\n",
              "      <td>1122</td>\n",
              "      <td>1578</td>\n",
              "      <td>166</td>\n",
              "      <td>102</td>\n",
              "      <td>874</td>\n",
              "    </tr>\n",
              "    <tr>\n",
              "      <th>24</th>\n",
              "      <td>1997</td>\n",
              "      <td>0.259</td>\n",
              "      <td>1005</td>\n",
              "      <td>1427</td>\n",
              "      <td>133</td>\n",
              "      <td>84</td>\n",
              "      <td>777</td>\n",
              "    </tr>\n",
              "    <tr>\n",
              "      <th>25</th>\n",
              "      <td>1996</td>\n",
              "      <td>0.252</td>\n",
              "      <td>1057</td>\n",
              "      <td>1445</td>\n",
              "      <td>129</td>\n",
              "      <td>82</td>\n",
              "      <td>753</td>\n",
              "    </tr>\n",
              "    <tr>\n",
              "      <th>28</th>\n",
              "      <td>1993</td>\n",
              "      <td>0.267</td>\n",
              "      <td>911</td>\n",
              "      <td>1459</td>\n",
              "      <td>138</td>\n",
              "      <td>85</td>\n",
              "      <td>716</td>\n",
              "    </tr>\n",
              "    <tr>\n",
              "      <th>29</th>\n",
              "      <td>1992</td>\n",
              "      <td>0.246</td>\n",
              "      <td>1025</td>\n",
              "      <td>1350</td>\n",
              "      <td>96</td>\n",
              "      <td>81</td>\n",
              "      <td>608</td>\n",
              "    </tr>\n",
              "  </tbody>\n",
              "</table>\n",
              "</div>"
            ],
            "text/plain": [
              "    Year  Batting Avg  Strikeouts  Hits  Homeruns  Wins  Runs\n",
              "0   2021        0.267        1222  1496       221    95   863\n",
              "2   2019        0.274        1166  1538       288   107   920\n",
              "4   2017        0.282        1087  1581       238   101   896\n",
              "5   2016        0.247        1452  1367       198    84   724\n",
              "6   2015        0.250        1392  1363       230    86   729\n",
              "7   2014        0.242        1442  1317       163    70   629\n",
              "8   2013        0.240        1535  1307       148    51   610\n",
              "9   2012        0.236        1365  1276       146    55   583\n",
              "10  2011        0.258        1164  1442        95    56   615\n",
              "11  2010        0.247        1025  1348       108    76   611\n",
              "12  2009        0.260         990  1415       142    74   643\n",
              "14  2007        0.260        1043  1457       167    73   723\n",
              "15  2006        0.255        1076  1407       174    82   735\n",
              "16  2005        0.256        1037  1400       161    89   693\n",
              "17  2004        0.267         999  1458       187    92   803\n",
              "18  2003        0.263        1021  1466       191    87   805\n",
              "19  2002        0.262        1120  1441       167    84   749\n",
              "20  2001        0.271        1119  1500       208    93   847\n",
              "21  2000        0.278        1129  1547       249    72   938\n",
              "22  1999        0.267        1138  1463       168    97   823\n",
              "23  1998        0.280        1122  1578       166   102   874\n",
              "24  1997        0.259        1005  1427       133    84   777\n",
              "25  1996        0.252        1057  1445       129    82   753\n",
              "28  1993        0.267         911  1459       138    85   716\n",
              "29  1992        0.246        1025  1350        96    81   608"
            ]
          },
          "metadata": {},
          "execution_count": 103
        }
      ]
    },
    {
      "cell_type": "code",
      "metadata": {
        "colab": {
          "base_uri": "https://localhost:8080/",
          "height": 297
        },
        "id": "VwMVFzvm-ZQ3",
        "outputId": "188b4323-19a9-48f5-afdd-81e6788ddcee"
      },
      "source": [
        "sns.regplot(x=df3['Batting Avg'], y=df3['Runs'])"
      ],
      "execution_count": 104,
      "outputs": [
        {
          "output_type": "execute_result",
          "data": {
            "text/plain": [
              "<matplotlib.axes._subplots.AxesSubplot at 0x7efe4b2a6d50>"
            ]
          },
          "metadata": {},
          "execution_count": 104
        },
        {
          "output_type": "display_data",
          "data": {
            "image/png": "[encoded data removed]",
            "text/plain": [
              "<Figure size 432x288 with 1 Axes>"
            ]
          },
          "metadata": {
            "needs_background": "light"
          }
        }
      ]
    },
    {
      "cell_type": "code",
      "metadata": {
        "colab": {
          "base_uri": "https://localhost:8080/",
          "height": 297
        },
        "id": "PXwJ3uMR_fAp",
        "outputId": "cf95330e-6c64-47d3-ba1f-d12189f229ed"
      },
      "source": [
        "sns.kdeplot(df3['Batting Avg'])"
      ],
      "execution_count": 105,
      "outputs": [
        {
          "output_type": "execute_result",
          "data": {
            "text/plain": [
              "<matplotlib.axes._subplots.AxesSubplot at 0x7efe4b1f2f10>"
            ]
          },
          "metadata": {},
          "execution_count": 105
        },
        {
          "output_type": "display_data",
          "data": {
            "image/png": "[encoded data removed]",
            "text/plain": [
              "<Figure size 432x288 with 1 Axes>"
            ]
          },
          "metadata": {
            "needs_background": "light"
          }
        }
      ]
    },
    {
      "cell_type": "code",
      "metadata": {
        "colab": {
          "base_uri": "https://localhost:8080/"
        },
        "id": "4kTeZABfACyh",
        "outputId": "bb608a0e-209d-4e69-c889-613ce971ebc9"
      },
      "source": [
        "YVar = df3['Runs']\n",
        "XVar = df3['Batting Avg']\n",
        "\n",
        "LinearModel = sm.OLS(YVar,XVar)\n",
        "results = LinearModel.fit()\n",
        "print(results.summary())"
      ],
      "execution_count": 106,
      "outputs": [
        {
          "output_type": "stream",
          "name": "stdout",
          "text": [
            "                                 OLS Regression Results                                \n",
            "=======================================================================================\n",
            "Dep. Variable:                   Runs   R-squared (uncentered):                   0.990\n",
            "Model:                            OLS   Adj. R-squared (uncentered):              0.990\n",
            "Method:                 Least Squares   F-statistic:                              2364.\n",
            "Date:                Tue, 30 Nov 2021   Prob (F-statistic):                    1.72e-25\n",
            "Time:                        18:16:27   Log-Likelihood:                         -143.60\n",
            "No. Observations:                  25   AIC:                                      289.2\n",
            "Df Residuals:                      24   BIC:                                      290.4\n",
            "Df Model:                           1                                                  \n",
            "Covariance Type:            nonrobust                                                  \n",
            "===============================================================================\n",
            "                  coef    std err          t      P>|t|      [0.025      0.975]\n",
            "-------------------------------------------------------------------------------\n",
            "Batting Avg  2888.1694     59.401     48.621      0.000    2765.571    3010.768\n",
            "==============================================================================\n",
            "Omnibus:                        2.225   Durbin-Watson:                   0.436\n",
            "Prob(Omnibus):                  0.329   Jarque-Bera (JB):                1.141\n",
            "Skew:                           0.010   Prob(JB):                        0.565\n",
            "Kurtosis:                       1.954   Cond. No.                         1.00\n",
            "==============================================================================\n",
            "\n",
            "Warnings:\n",
            "[1] Standard Errors assume that the covariance matrix of the errors is correctly specified.\n"
          ]
        }
      ]
    }
  ]
}